{
 "cells": [
  {
   "cell_type": "code",
   "execution_count": null,
   "metadata": {
    "id": "6TRMLE-eLPrd"
   },
   "outputs": [],
   "source": [
    "import tensorflow as tf\n",
    "import numpy as np\n",
    "import pandas as pd\n",
    "from tensorflow.keras.models import Sequential\n",
    "from tensorflow.keras.layers import Dense,Flatten,Reshape\n",
    "from tensorflow.keras.optimizers import SGD\n",
    "#!pip install split-folders\n",
    "from keras.models import load_model\n",
    "import matplotlib.pyplot as plt\n",
    "from tensorflow.keras.preprocessing.image import ImageDataGenerator\n",
    "from tensorflow.keras.optimizers import RMSprop\n",
    "from keras.backend import ndim\n",
    "from keras.preprocessing import image"
   ]
  },
  {
   "cell_type": "code",
   "execution_count": null,
   "metadata": {
    "id": "v7Ml6CRNh5bg"
   },
   "outputs": [],
   "source": [
    "from keras.layers import Dense, Dropout, Activation, Flatten\n",
    "from keras.layers import Conv2D, MaxPooling2D\n",
    "from keras import layers"
   ]
  },
  {
   "cell_type": "code",
   "execution_count": null,
   "metadata": {
    "id": "O765CiQ0jR2R"
   },
   "outputs": [],
   "source": [
    "from tensorflow.keras.layers import *\n",
    "from tensorflow.keras.models import Model, Sequential\n",
    "from tensorflow.keras.optimizers import Adam, RMSprop\n",
    "from tensorflow.keras.preprocessing import image\n",
    "\n",
    "import tensorflow.keras.backend as K"
   ]
  },
  {
   "cell_type": "code",
   "execution_count": null,
   "metadata": {
    "id": "h1EXA3jML3sa"
   },
   "outputs": [],
   "source": [
    "import sys"
   ]
  },
  {
   "cell_type": "code",
   "execution_count": null,
   "metadata": {
    "id": "eBadbqyJLmwD"
   },
   "outputs": [],
   "source": [
    "train_data_dir='/data'"
   ]
  },
  {
   "cell_type": "code",
   "execution_count": null,
   "metadata": {
    "id": "htAM3h5dLz-9"
   },
   "outputs": [],
   "source": [
    "\n",
    "images_generator = tf.keras.preprocessing.image.ImageDataGenerator(rescale=1./255)\n",
    "test_images, test_labels = next(images_generator.flow_from_directory('/val',target_size=(200, 136),batch_size=int(30000)))"
   ]
  },
  {
   "cell_type": "code",
   "execution_count": null,
   "metadata": {
    "id": "DJzoSHknhHxr"
   },
   "outputs": [],
   "source": [
    "\n",
    "images_generator = tf.keras.preprocessing.image.ImageDataGenerator(rescale=1./255)\n",
    "train_images, train_labels = next(images_generator.flow_from_directory('/home/user/Desktop/data_new',target_size=(200, 136),batch_size=int(30000)))"
   ]
  },
  {
   "cell_type": "code",
   "execution_count": null,
   "metadata": {
    "id": "nLLY_pOLgxmx"
   },
   "outputs": [],
   "source": [
    "train_images.shape"
   ]
  },
  {
   "cell_type": "code",
   "execution_count": null,
   "metadata": {
    "id": "x13V20beMEzI"
   },
   "outputs": [],
   "source": [
    "train_images = train_images.astype('float32')\n",
    "test_images = test_images.astype('float32')"
   ]
  },
  {
   "cell_type": "markdown",
   "metadata": {
    "id": "gai3Z1LH4ihk"
   },
   "source": [
    "# Latent Space creation and classifier"
   ]
  },
  {
   "cell_type": "code",
   "execution_count": null,
   "metadata": {
    "id": "bBX54xjw5p2d"
   },
   "outputs": [],
   "source": []
  },
  {
   "cell_type": "code",
   "execution_count": null,
   "metadata": {
    "colab": {
     "base_uri": "https://localhost:8080/"
    },
    "id": "jv7fpWBy4ihq",
    "outputId": "76e9e9cc-d306-4ace-d43b-2a1c5d04700f"
   },
   "outputs": [
    {
     "name": "stdout",
     "output_type": "stream",
     "text": [
      "Found 30000 images belonging to 5 classes.\n",
      "Found 7405 images belonging to 5 classes.\n"
     ]
    }
   ],
   "source": [
    "train_datagen = ImageDataGenerator(rescale = 1./255.)\n",
    "\n",
    "test_datagen = ImageDataGenerator( rescale = 1.0/255. )\n",
    "\n",
    "train_generator = train_datagen.flow_from_directory('/home/user/Desktop/data_new',\n",
    "                                                    batch_size = 20,\n",
    "                                                    class_mode =  \"sparse\", \n",
    "                                                    target_size = (200, 136))     \n",
    "\n",
    "validation_generator =  test_datagen.flow_from_directory( '/home/user/Desktop/test',\n",
    "                                                          batch_size  = 20,\n",
    "                                                          class_mode  = \"sparse\", \n",
    "                                                          target_size = (200, 136))"
   ]
  },
  {
   "cell_type": "code",
   "execution_count": null,
   "metadata": {
    "id": "x2b5TLmti6Gc"
   },
   "outputs": [],
   "source": []
  },
  {
   "cell_type": "code",
   "execution_count": null,
   "metadata": {
    "colab": {
     "base_uri": "https://localhost:8080/"
    },
    "id": "2JlqfarlUGYs",
    "outputId": "64e808cd-cc44-4d51-b713-6c5f1ed0794d"
   },
   "outputs": [
    {
     "name": "stdout",
     "output_type": "stream",
     "text": [
      "Epoch 1/5\n",
      "   1/1500 [..............................] - ETA: 1:58 - loss: 2.0906e-04 - accuracy: 1.0000"
     ]
    },
    {
     "name": "stderr",
     "output_type": "stream",
     "text": [
      "/tmp/ipykernel_1064686/1840525042.py:1: UserWarning: `Model.fit_generator` is deprecated and will be removed in a future version. Please use `Model.fit`, which supports generators.\n",
      "  encoder.fit_generator(train_generator,\n"
     ]
    },
    {
     "name": "stdout",
     "output_type": "stream",
     "text": [
      "1500/1500 [==============================] - 77s 51ms/step - loss: 0.0032 - accuracy: 0.9990 - val_loss: 0.0317 - val_accuracy: 0.9938\n",
      "Epoch 2/5\n",
      "1500/1500 [==============================] - 76s 51ms/step - loss: 6.0781e-04 - accuracy: 0.9997 - val_loss: 4.7674e-05 - val_accuracy: 1.0000\n",
      "Epoch 3/5\n",
      "1500/1500 [==============================] - 76s 51ms/step - loss: 0.0012 - accuracy: 0.9997 - val_loss: 1.2976e-04 - val_accuracy: 0.9999\n",
      "Epoch 4/5\n",
      "1500/1500 [==============================] - 76s 51ms/step - loss: 0.0017 - accuracy: 0.9998 - val_loss: 1.4692e-04 - val_accuracy: 0.9999\n",
      "Epoch 5/5\n",
      "1500/1500 [==============================] - 75s 50ms/step - loss: 0.0012 - accuracy: 0.9999 - val_loss: 0.0026 - val_accuracy: 0.9997\n"
     ]
    },
    {
     "data": {
      "text/plain": [
       "<keras.callbacks.History at 0x7f88ec3543a0>"
      ]
     },
     "execution_count": 10,
     "metadata": {},
     "output_type": "execute_result"
    }
   ],
   "source": [
    "encoder.fit_generator(train_generator,\n",
    "            validation_data = validation_generator,\n",
    "            epochs = 5,callbacks=[callback])"
   ]
  },
  {
   "cell_type": "code",
   "execution_count": null,
   "metadata": {
    "id": "HtI_Yfu3AYpn"
   },
   "outputs": [],
   "source": [
    "encoder.save(\"Classifier.h5\")"
   ]
  },
  {
   "cell_type": "code",
   "execution_count": null,
   "metadata": {
    "id": "0FsYzWNllxsZ"
   },
   "outputs": [],
   "source": [
    "from keras.models import load_model\n"
   ]
  },
  {
   "cell_type": "code",
   "execution_count": null,
   "metadata": {
    "id": "2qfbVllapSOb"
   },
   "outputs": [],
   "source": [
    "classifier=load_model(\"/content/Classifier.h5\")"
   ]
  },
  {
   "cell_type": "code",
   "execution_count": null,
   "metadata": {
    "id": "XNDH5vKgkJOu"
   },
   "outputs": [],
   "source": [
    "test_image = tf.keras.preprocessing.image.load_img('/content/gdrive/MyDrive/1.jpg', target_size = (200,136)) \n",
    "test_image = tf.keras.preprocessing.image.img_to_array(test_image)\n",
    "test_image=test_image.reshape(1,200,136,3)/255.\n",
    "value=encoder.predict(test_image).argmax()"
   ]
  },
  {
   "cell_type": "code",
   "execution_count": null,
   "metadata": {
    "id": "-HQYGkiRk9MN"
   },
   "outputs": [],
   "source": [
    "key_list = list(validation_generator.class_indices.keys())"
   ]
  },
  {
   "cell_type": "code",
   "execution_count": null,
   "metadata": {
    "colab": {
     "base_uri": "https://localhost:8080/"
    },
    "id": "zNzXeku9k9MN",
    "outputId": "630d4b84-df54-4dfd-9d77-02a9ebfd6d8d"
   },
   "outputs": [
    {
     "name": "stdout",
     "output_type": "stream",
     "text": [
      "right_loop\n"
     ]
    }
   ],
   "source": [
    "print(key_list[value])"
   ]
  },
  {
   "cell_type": "code",
   "execution_count": null,
   "metadata": {
    "id": "VwThvvcj_onK"
   },
   "outputs": [],
   "source": [
    "encoder_model = Model(input_img, encoded, name=\"encoder_model\")\n",
    "#latent_space=encoder_model.predict(train_images)"
   ]
  },
  {
   "cell_type": "code",
   "execution_count": null,
   "metadata": {
    "colab": {
     "base_uri": "https://localhost:8080/"
    },
    "id": "99iqJuitJGi5",
    "outputId": "c687eb0d-8b88-41f4-955a-447cbfb81fe8"
   },
   "outputs": [
    {
     "name": "stdout",
     "output_type": "stream",
     "text": [
      "WARNING:tensorflow:Compiled the loaded model, but the compiled metrics have yet to be built. `model.compile_metrics` will be empty until you train or evaluate the model.\n"
     ]
    }
   ],
   "source": [
    "encoder_model.save('latent.h5')"
   ]
  },
  {
   "cell_type": "code",
   "execution_count": null,
   "metadata": {
    "colab": {
     "base_uri": "https://localhost:8080/"
    },
    "id": "SRuS8ifzmXfX",
    "outputId": "65dc7a5b-9215-4b48-e1e6-ca4b3af01174"
   },
   "outputs": [
    {
     "name": "stdout",
     "output_type": "stream",
     "text": [
      "WARNING:tensorflow:No training configuration found in the save file, so the model was *not* compiled. Compile it manually.\n"
     ]
    }
   ],
   "source": [
    "encoder_model=load_model(\"/content/latent.h5\")"
   ]
  },
  {
   "cell_type": "code",
   "execution_count": null,
   "metadata": {
    "id": "4DQ49HKfJn2I"
   },
   "outputs": [],
   "source": [
    "encoder_model.compile(loss='sparse_categorical_crossentropy',optimizer=RMSprop(),metrics=['accuracy'])"
   ]
  },
  {
   "cell_type": "code",
   "execution_count": null,
   "metadata": {
    "id": "_7iNOWk1KUlK"
   },
   "outputs": [],
   "source": [
    "latent_space=encoder_model.predict(train_images)"
   ]
  },
  {
   "cell_type": "markdown",
   "metadata": {
    "id": "dHgwP3e8dnxk"
   },
   "source": [
    "## TSNE representation"
   ]
  },
  {
   "cell_type": "code",
   "execution_count": null,
   "metadata": {
    "id": "MngXVASNgn4E"
   },
   "outputs": [],
   "source": [
    "from sklearn.manifold import TSNE"
   ]
  },
  {
   "cell_type": "code",
   "execution_count": null,
   "metadata": {
    "id": "VFl8O9Jrdnxl"
   },
   "outputs": [],
   "source": [
    "tsne = TSNE(n_components=2, n_iter=5000,init='pca')"
   ]
  },
  {
   "cell_type": "code",
   "execution_count": null,
   "metadata": {
    "colab": {
     "base_uri": "https://localhost:8080/"
    },
    "id": "7CJM6biNgn4F",
    "outputId": "81099d58-1029-4afa-9007-e04b9d6ca86a"
   },
   "outputs": [
    {
     "data": {
      "text/plain": [
       "(10000, 528)"
      ]
     },
     "execution_count": 5,
     "metadata": {},
     "output_type": "execute_result"
    }
   ],
   "source": [
    "train.shape"
   ]
  },
  {
   "cell_type": "code",
   "execution_count": null,
   "metadata": {
    "colab": {
     "base_uri": "https://localhost:8080/"
    },
    "id": "oUTzN25kdnxn",
    "outputId": "2ea1ed06-8e76-4517-d608-1f0f6d93d7e0"
   },
   "outputs": [
    {
     "name": "stderr",
     "output_type": "stream",
     "text": [
      "/usr/local/lib/python3.7/dist-packages/sklearn/manifold/_t_sne.py:793: FutureWarning: The default learning rate in TSNE will change from 200.0 to 'auto' in 1.2.\n",
      "  FutureWarning,\n",
      "/usr/local/lib/python3.7/dist-packages/sklearn/manifold/_t_sne.py:986: FutureWarning: The PCA initialization in TSNE will change to have the standard deviation of PC1 equal to 1e-4 in 1.2. This will ensure better convergence.\n",
      "  FutureWarning,\n"
     ]
    }
   ],
   "source": [
    "x_reduced=tsne.fit_transform(train)"
   ]
  },
  {
   "cell_type": "code",
   "execution_count": null,
   "metadata": {
    "id": "vRjf_nondnxn"
   },
   "outputs": [],
   "source": [
    "import numpy as np\n",
    "import matplotlib.pyplot as plt\n",
    "from sklearn.decomposition import PCA\n",
    "colors=['royalblue','red','deeppink','maroon','pink']\n",
    "vectorizer= np.vectorize(lambda x:colors[x %len(colors)])"
   ]
  },
  {
   "cell_type": "code",
   "execution_count": null,
   "metadata": {
    "colab": {
     "base_uri": "https://localhost:8080/"
    },
    "id": "QrSImU_Ydnxo",
    "outputId": "707d7b09-7752-4f09-cb38-c32dbd6801e8"
   },
   "outputs": [
    {
     "data": {
      "text/plain": [
       "(10000, 2)"
      ]
     },
     "execution_count": 8,
     "metadata": {},
     "output_type": "execute_result"
    }
   ],
   "source": [
    "x_reduced.shape"
   ]
  },
  {
   "cell_type": "code",
   "execution_count": null,
   "metadata": {
    "id": "IozQ5XKJdnxo"
   },
   "outputs": [],
   "source": [
    "plt.scatter(x_reduced[:,0],x_reduced[:,1],c=vectorizer(a.argmax(axis=1)))"
   ]
  },
  {
   "cell_type": "code",
   "execution_count": null,
   "metadata": {
    "id": "t7f4DfNddnxp"
   },
   "outputs": [],
   "source": []
  },
  {
   "cell_type": "markdown",
   "metadata": {
    "id": "0m5150JHgn4G"
   },
   "source": [
    "# Random orthogonal plot"
   ]
  },
  {
   "cell_type": "code",
   "execution_count": null,
   "metadata": {
    "id": "33fGdVntdnxp"
   },
   "outputs": [],
   "source": [
    "from scipy.stats import ortho_group"
   ]
  },
  {
   "cell_type": "code",
   "execution_count": null,
   "metadata": {
    "id": "WmDxIp86gn4H"
   },
   "outputs": [],
   "source": [
    "w=[]\n",
    "t=[]\n",
    "r=[]\n",
    "l=[]\n",
    "a=[]"
   ]
  },
  {
   "cell_type": "code",
   "execution_count": null,
   "metadata": {
    "id": "_Sl0vC_Zgn4H"
   },
   "outputs": [],
   "source": [
    "\n",
    "for i,j in enumerate(train_labels.argmax(axis=1)):\n",
    "  if j==0 :\n",
    "    w.append(i)\n",
    "  elif j==1:\n",
    "    t.append(i)\n",
    "  elif j==2:\n",
    "    r.append(i)\n",
    "  elif j==3:\n",
    "    l.append(i)\n",
    "  elif j==4:\n",
    "    a.append(i)\n",
    "  \n",
    "\n",
    "\n"
   ]
  },
  {
   "cell_type": "code",
   "execution_count": null,
   "metadata": {
    "id": "8QmMlF_Ngn4H"
   },
   "outputs": [],
   "source": [
    "data_0=train[w]\n",
    "data_1=train[t]\n",
    "data_2=train[r]\n",
    "data_3=train[l]\n",
    "data_4=train[a]"
   ]
  },
  {
   "cell_type": "code",
   "execution_count": null,
   "metadata": {
    "id": "wZ2VXtY1gn4H"
   },
   "outputs": [],
   "source": [
    "m_0=ortho_group.rvs(dim=data_0.shape[1])\n",
    "m_1=ortho_group.rvs(dim=data_1.shape[1])\n",
    "m_2=ortho_group.rvs(dim=data_2.shape[1])\n",
    "m_3=ortho_group.rvs(dim=data_3.shape[1])\n",
    "m_4=ortho_group.rvs(dim=data_4.shape[1])"
   ]
  },
  {
   "cell_type": "code",
   "execution_count": null,
   "metadata": {
    "id": "5Vdo48O7gn4H"
   },
   "outputs": [],
   "source": [
    "projection_0=np.dot(data_0,m_0)\n",
    "projection_1=np.dot(data_1,m_1)\n",
    "projection_2=np.dot(data_2,m_2)\n",
    "projection_3=np.dot(data_3,m_3)\n",
    "projection_4=np.dot(data_4,m_4)"
   ]
  },
  {
   "cell_type": "code",
   "execution_count": null,
   "metadata": {
    "id": "jTNJDnSggn4H"
   },
   "outputs": [],
   "source": [
    "data_final=np.concatenate((projection_0, projection_1,projection_2,projection_3,projection_4), axis=0)"
   ]
  },
  {
   "cell_type": "markdown",
   "metadata": {
    "id": "S4B5qqhjgn4I"
   },
   "source": [
    "#classwise"
   ]
  },
  {
   "cell_type": "code",
   "execution_count": null,
   "metadata": {
    "colab": {
     "base_uri": "https://localhost:8080/"
    },
    "id": "QdTHAaq3gn4I",
    "outputId": "96c4b6f3-e850-4735-e87b-d3f71a04467d"
   },
   "outputs": [
    {
     "name": "stderr",
     "output_type": "stream",
     "text": [
      "/usr/local/lib/python3.7/dist-packages/sklearn/manifold/_t_sne.py:793: FutureWarning: The default learning rate in TSNE will change from 200.0 to 'auto' in 1.2.\n",
      "  FutureWarning,\n",
      "/usr/local/lib/python3.7/dist-packages/sklearn/manifold/_t_sne.py:986: FutureWarning: The PCA initialization in TSNE will change to have the standard deviation of PC1 equal to 1e-4 in 1.2. This will ensure better convergence.\n",
      "  FutureWarning,\n"
     ]
    }
   ],
   "source": [
    "x_reduced_projected=tsne.fit_transform(projection_0)"
   ]
  },
  {
   "cell_type": "code",
   "execution_count": null,
   "metadata": {
    "id": "aoifoV5ugn4I"
   },
   "outputs": [],
   "source": [
    "plt.scatter(x_reduced_projected[:,0],x_reduced_projected[:,1],c=vectorizer(data_0.argmax(axis=1)))"
   ]
  },
  {
   "cell_type": "code",
   "execution_count": null,
   "metadata": {
    "id": "AhUc__zZgn4I"
   },
   "outputs": [],
   "source": []
  },
  {
   "cell_type": "code",
   "execution_count": null,
   "metadata": {
    "colab": {
     "base_uri": "https://localhost:8080/"
    },
    "id": "-aKHZFX1gn4I",
    "outputId": "25fee143-3df7-487f-910c-be743fc42fb0"
   },
   "outputs": [
    {
     "name": "stderr",
     "output_type": "stream",
     "text": [
      "/usr/local/lib/python3.7/dist-packages/sklearn/manifold/_t_sne.py:793: FutureWarning: The default learning rate in TSNE will change from 200.0 to 'auto' in 1.2.\n",
      "  FutureWarning,\n",
      "/usr/local/lib/python3.7/dist-packages/sklearn/manifold/_t_sne.py:986: FutureWarning: The PCA initialization in TSNE will change to have the standard deviation of PC1 equal to 1e-4 in 1.2. This will ensure better convergence.\n",
      "  FutureWarning,\n"
     ]
    }
   ],
   "source": [
    "x_reduced_projected=tsne.fit_transform(projection_1)"
   ]
  },
  {
   "cell_type": "code",
   "execution_count": null,
   "metadata": {
    "id": "ZQFAuqxrgn4I"
   },
   "outputs": [],
   "source": [
    "plt.scatter(x_reduced_projected[:,0],x_reduced_projected[:,1],c=vectorizer(data_1.argmax(axis=1)))"
   ]
  },
  {
   "cell_type": "code",
   "execution_count": null,
   "metadata": {
    "id": "Jq9ZyQlPgn4I"
   },
   "outputs": [],
   "source": []
  },
  {
   "cell_type": "code",
   "execution_count": null,
   "metadata": {
    "colab": {
     "base_uri": "https://localhost:8080/"
    },
    "id": "TyMLCgxmgn4J",
    "outputId": "ca88fe67-8411-43ce-8512-b8d4cb6a00a0"
   },
   "outputs": [
    {
     "name": "stderr",
     "output_type": "stream",
     "text": [
      "/usr/local/lib/python3.7/dist-packages/sklearn/manifold/_t_sne.py:793: FutureWarning: The default learning rate in TSNE will change from 200.0 to 'auto' in 1.2.\n",
      "  FutureWarning,\n",
      "/usr/local/lib/python3.7/dist-packages/sklearn/manifold/_t_sne.py:986: FutureWarning: The PCA initialization in TSNE will change to have the standard deviation of PC1 equal to 1e-4 in 1.2. This will ensure better convergence.\n",
      "  FutureWarning,\n"
     ]
    }
   ],
   "source": [
    "x_reduced_projected=tsne.fit_transform(projection_2)"
   ]
  },
  {
   "cell_type": "code",
   "execution_count": null,
   "metadata": {
    "id": "ojcULQfQgn4J"
   },
   "outputs": [],
   "source": [
    "plt.scatter(x_reduced_projected[:,0],x_reduced_projected[:,1],c=vectorizer(data_2.argmax(axis=1)))"
   ]
  },
  {
   "cell_type": "code",
   "execution_count": null,
   "metadata": {
    "id": "tq3fRmojgn4J"
   },
   "outputs": [],
   "source": []
  },
  {
   "cell_type": "code",
   "execution_count": null,
   "metadata": {
    "colab": {
     "base_uri": "https://localhost:8080/"
    },
    "id": "8tpINhsIgn4J",
    "outputId": "31d4a0e6-7267-40aa-fd5e-3136da375245"
   },
   "outputs": [
    {
     "name": "stderr",
     "output_type": "stream",
     "text": [
      "/usr/local/lib/python3.7/dist-packages/sklearn/manifold/_t_sne.py:793: FutureWarning: The default learning rate in TSNE will change from 200.0 to 'auto' in 1.2.\n",
      "  FutureWarning,\n",
      "/usr/local/lib/python3.7/dist-packages/sklearn/manifold/_t_sne.py:986: FutureWarning: The PCA initialization in TSNE will change to have the standard deviation of PC1 equal to 1e-4 in 1.2. This will ensure better convergence.\n",
      "  FutureWarning,\n"
     ]
    }
   ],
   "source": [
    "x_reduced_projected=tsne.fit_transform(projection_3)"
   ]
  },
  {
   "cell_type": "code",
   "execution_count": null,
   "metadata": {
    "id": "S4F_ReSAgn4J"
   },
   "outputs": [],
   "source": [
    "plt.scatter(x_reduced_projected[:,0],x_reduced_projected[:,1],c=vectorizer(data_3.argmax(axis=1)))"
   ]
  },
  {
   "cell_type": "code",
   "execution_count": null,
   "metadata": {
    "id": "cPrhAfdygn4J"
   },
   "outputs": [],
   "source": []
  },
  {
   "cell_type": "code",
   "execution_count": null,
   "metadata": {
    "colab": {
     "base_uri": "https://localhost:8080/"
    },
    "id": "hCFqKDwygn4J",
    "outputId": "2ce89127-052f-4c01-8a41-e31046d8b0f7"
   },
   "outputs": [
    {
     "name": "stderr",
     "output_type": "stream",
     "text": [
      "/usr/local/lib/python3.7/dist-packages/sklearn/manifold/_t_sne.py:793: FutureWarning: The default learning rate in TSNE will change from 200.0 to 'auto' in 1.2.\n",
      "  FutureWarning,\n",
      "/usr/local/lib/python3.7/dist-packages/sklearn/manifold/_t_sne.py:986: FutureWarning: The PCA initialization in TSNE will change to have the standard deviation of PC1 equal to 1e-4 in 1.2. This will ensure better convergence.\n",
      "  FutureWarning,\n"
     ]
    }
   ],
   "source": [
    "x_reduced_projected=tsne.fit_transform(projection_4)"
   ]
  },
  {
   "cell_type": "code",
   "execution_count": null,
   "metadata": {
    "id": "yCr0khd7gn4J"
   },
   "outputs": [],
   "source": [
    "plt.scatter(x_reduced_projected[:,0],x_reduced_projected[:,1],c=vectorizer(data_4.argmax(axis=1)))"
   ]
  },
  {
   "cell_type": "markdown",
   "metadata": {
    "id": "dx3ZXY4mgn4K"
   },
   "source": [
    "#final_data"
   ]
  },
  {
   "cell_type": "code",
   "execution_count": null,
   "metadata": {
    "colab": {
     "base_uri": "https://localhost:8080/"
    },
    "id": "YVZ5DOvQgn4K",
    "outputId": "872fc731-62aa-4fa4-b41e-2275bca6b317"
   },
   "outputs": [
    {
     "name": "stderr",
     "output_type": "stream",
     "text": [
      "/usr/local/lib/python3.7/dist-packages/sklearn/manifold/_t_sne.py:793: FutureWarning: The default learning rate in TSNE will change from 200.0 to 'auto' in 1.2.\n",
      "  FutureWarning,\n",
      "/usr/local/lib/python3.7/dist-packages/sklearn/manifold/_t_sne.py:986: FutureWarning: The PCA initialization in TSNE will change to have the standard deviation of PC1 equal to 1e-4 in 1.2. This will ensure better convergence.\n",
      "  FutureWarning,\n"
     ]
    }
   ],
   "source": [
    "x_reduced_projected=tsne.fit_transform(data_final)"
   ]
  },
  {
   "cell_type": "code",
   "execution_count": null,
   "metadata": {
    "id": "suttKKlSgn4K"
   },
   "outputs": [],
   "source": [
    "plt.scatter(x_reduced_projected[:,0],x_reduced_projected[:,1],c=vectorizer(train_labels.argmax(axis=1)))"
   ]
  },
  {
   "cell_type": "code",
   "execution_count": null,
   "metadata": {
    "id": "OlpwmRGYd1Qg"
   },
   "outputs": [],
   "source": [
    "for layer in encoder_model.layers:\n",
    "    layer.trainable = False"
   ]
  },
  {
   "cell_type": "code",
   "execution_count": null,
   "metadata": {
    "id": "vG_i49FZf63p"
   },
   "outputs": [],
   "source": [
    "autoencoder = Model(input_img, decoded)\n",
    "autoencoder.compile(loss='mean_squared_error',optimizer='Adam',metrics=['accuracy'])\n"
   ]
  },
  {
   "cell_type": "code",
   "execution_count": null,
   "metadata": {
    "colab": {
     "base_uri": "https://localhost:8080/"
    },
    "id": "yZhtlgRhHy4y",
    "outputId": "afcca99a-9bae-480c-b762-93373d5eede8"
   },
   "outputs": [
    {
     "name": "stdout",
     "output_type": "stream",
     "text": [
      "Found 451 images belonging to 5 classes.\n",
      "Found 53 images belonging to 5 classes.\n"
     ]
    }
   ],
   "source": [
    "train_datagen = ImageDataGenerator(rescale = 1./255.)\n",
    "\n",
    "test_datagen = ImageDataGenerator( rescale = 1.0/255. )\n",
    "\n",
    "train_generator = train_datagen.flow_from_directory('/content/gdrive/MyDrive/output/train',\n",
    "                                                    batch_size = 20,\n",
    "                                                    class_mode =  \"input\", \n",
    "                                                    target_size = (200, 136))     \n",
    "\n",
    "validation_generator =  test_datagen.flow_from_directory( '/content/gdrive/MyDrive/output/val',\n",
    "                                                          batch_size  = 20,\n",
    "                                                          class_mode  = \"input\", \n",
    "                                                          target_size = (200, 136))"
   ]
  },
  {
   "cell_type": "code",
   "execution_count": null,
   "metadata": {
    "id": "XmhymW-04ihs"
   },
   "outputs": [],
   "source": [
    "\n",
    "autoencoder.fit_generator(train_generator,\n",
    "            validation_data = validation_generator,\n",
    "            epochs = 20,callbacks=[callback])"
   ]
  },
  {
   "cell_type": "code",
   "execution_count": null,
   "metadata": {
    "id": "BajklNXkBAZS"
   },
   "outputs": [],
   "source": [
    "decoder_model = Model(decoder_input, decoded, name=\"decoder_model\")\n",
    "\n"
   ]
  },
  {
   "cell_type": "code",
   "execution_count": null,
   "metadata": {
    "colab": {
     "base_uri": "https://localhost:8080/"
    },
    "id": "xi57ryTzLBpt",
    "outputId": "2f7354c7-1484-4d16-f83d-647f21a20b72"
   },
   "outputs": [
    {
     "name": "stdout",
     "output_type": "stream",
     "text": [
      "WARNING:tensorflow:Compiled the loaded model, but the compiled metrics have yet to be built. `model.compile_metrics` will be empty until you train or evaluate the model.\n",
      "WARNING:tensorflow:No training configuration found in the save file, so the model was *not* compiled. Compile it manually.\n"
     ]
    }
   ],
   "source": [
    "decoder=load_model('decoder.h5')"
   ]
  },
  {
   "cell_type": "code",
   "execution_count": null,
   "metadata": {
    "id": "2upeQ0-fMfPA"
   },
   "outputs": [],
   "source": [
    "decoder.compile(loss='mean_squared_error',optimizer='Adam',metrics=['accuracy'])"
   ]
  },
  {
   "cell_type": "code",
   "execution_count": null,
   "metadata": {
    "id": "GjpPONC9L0mS"
   },
   "outputs": [],
   "source": [
    "img=tf.keras.preprocessing.image.load_img('/content/gdrive/MyDrive/327.jpg', target_size = (200,136))\n",
    "test_image=tf.keras.preprocessing.image.img_to_array(img)\n",
    "test_image=test_image.reshape(1,200,136,3)/255."
   ]
  },
  {
   "cell_type": "code",
   "execution_count": null,
   "metadata": {
    "id": "p9fbSCGeMORm"
   },
   "outputs": [],
   "source": [
    "laten_space_Tarch=encoder_model.predict(test_image)"
   ]
  },
  {
   "cell_type": "code",
   "execution_count": null,
   "metadata": {
    "id": "T_eDAydBL8-L"
   },
   "outputs": [],
   "source": [
    "img=tf.keras.preprocessing.image.load_img('/content/gdrive/MyDrive/101.jpg', target_size = (200,136))\n",
    "test_image=tf.keras.preprocessing.image.img_to_array(img)\n",
    "test_image=test_image.reshape(1,200,136,3)/255."
   ]
  },
  {
   "cell_type": "code",
   "execution_count": null,
   "metadata": {
    "id": "HKgOVAvGMbwn"
   },
   "outputs": [],
   "source": [
    "laten_space_arch=encoder_model.predict(test_image)\n"
   ]
  },
  {
   "cell_type": "code",
   "execution_count": null,
   "metadata": {
    "id": "_H67OIZaNGbv"
   },
   "outputs": [],
   "source": [
    "alpha=0.8"
   ]
  },
  {
   "cell_type": "code",
   "execution_count": null,
   "metadata": {
    "id": "EP44qfnYNL0b"
   },
   "outputs": [],
   "source": [
    "new_image=decoder_model.predict(latent_final)"
   ]
  },
  {
   "cell_type": "code",
   "execution_count": null,
   "metadata": {
    "id": "h60fDPZKBFvI"
   },
   "outputs": [],
   "source": [
    "# **#TSNE PLOT**\n",
    "\n",
    "\n",
    "\n",
    "#encoder_model=load_model(\"/content/gdrive/MyDrive/fingerprint_rishabh/Classifier200*136.h5\")\n",
    "\n",
    "from keras.models import load_model\n",
    "\n",
    "\n",
    "encoder=load_model(\"/home/user/Music/latent200*136.h5\")\n",
    "encoder.summary()\n",
    "\n",
    "encoder_model.compile(loss='sparse_categorical_crossentropy',optimizer=RMSprop(),metrics=['accuracy'])\n",
    "\n",
    "#encoder_model = Model(input_img, encoded, name=\"encoder_model\")\n",
    "encoder.summary()\n",
    "latent_space=encoder.predict(train_images)\n",
    "\n",
    "latent_space[1]\n",
    "\n",
    "\n",
    "from sklearn.manifold import TSNE\n",
    "\n",
    "tsne = TSNE(n_components=2, n_iter=5000,init='pca')\n",
    "\n",
    "x_reduced=tsne.fit_transform(latent_space)\n",
    "\n",
    "import numpy as np\n",
    "import matplotlib.pyplot as plt\n",
    "from sklearn.decomposition import PCA\n",
    "colors=['royalblue','red','deeppink','maroon','pink']\n",
    "vectorizer= np.vectorize(lambda x:colors[x %len(colors)])\n",
    "\n",
    "x_reduced.shape\n",
    "\n",
    "colors=['royalblue','red','deeppink','maroon','pink']\n",
    "\n",
    "\n",
    "plt.scatter(x_reduced[:,0],x_reduced[:,1],c=vectorizer(train_labels.argmax(axis=1)))"
   ]
  },
  {
   "cell_type": "code",
   "execution_count": null,
   "metadata": {
    "id": "ezE-r7ECBFvJ"
   },
   "outputs": [],
   "source": []
  },
  {
   "cell_type": "code",
   "execution_count": null,
   "metadata": {
    "id": "JfNKa58WBFvJ"
   },
   "outputs": [],
   "source": []
  },
  {
   "cell_type": "code",
   "execution_count": null,
   "metadata": {
    "id": "OVBrdoIOBFvJ"
   },
   "outputs": [],
   "source": []
  }
 ],
 "metadata": {
  "accelerator": "GPU",
  "colab": {
   "collapsed_sections": [],
   "name": "fingerprint_1 (5).ipynb",
   "provenance": []
  },
  "kernelspec": {
   "display_name": "Python 3 (ipykernel)",
   "language": "python",
   "name": "python3"
  },
  "language_info": {
   "codemirror_mode": {
    "name": "ipython",
    "version": 3
   },
   "file_extension": ".py",
   "mimetype": "text/x-python",
   "name": "python",
   "nbconvert_exporter": "python",
   "pygments_lexer": "ipython3",
   "version": "3.8.10"
  }
 },
 "nbformat": 4,
 "nbformat_minor": 1
}
